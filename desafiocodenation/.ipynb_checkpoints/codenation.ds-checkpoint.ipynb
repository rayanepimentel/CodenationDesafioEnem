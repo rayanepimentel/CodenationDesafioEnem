{
 "cells": [
  {
   "cell_type": "code",
   "execution_count": 1,
   "metadata": {},
   "outputs": [
    {
     "name": "stdout",
     "output_type": "stream",
     "text": [
      "Requirement already satisfied: seaborn in /home/rayane/codenation/lib/python3.6/site-packages\n",
      "Requirement already satisfied: numpy>=1.13.3 in /home/rayane/codenation/lib/python3.6/site-packages (from seaborn)\n",
      "Requirement already satisfied: scipy>=1.0.1 in /home/rayane/codenation/lib/python3.6/site-packages (from seaborn)\n",
      "Requirement already satisfied: pandas>=0.22.0 in /home/rayane/codenation/lib/python3.6/site-packages (from seaborn)\n",
      "Requirement already satisfied: matplotlib>=2.1.2 in /home/rayane/codenation/lib/python3.6/site-packages (from seaborn)\n",
      "Requirement already satisfied: pytz>=2017.2 in /home/rayane/codenation/lib/python3.6/site-packages (from pandas>=0.22.0->seaborn)\n",
      "Requirement already satisfied: python-dateutil>=2.6.1 in /home/rayane/codenation/lib/python3.6/site-packages (from pandas>=0.22.0->seaborn)\n",
      "Requirement already satisfied: cycler>=0.10 in /home/rayane/codenation/lib/python3.6/site-packages (from matplotlib>=2.1.2->seaborn)\n",
      "Requirement already satisfied: pyparsing!=2.0.4,!=2.1.2,!=2.1.6,>=2.0.1 in /home/rayane/codenation/lib/python3.6/site-packages (from matplotlib>=2.1.2->seaborn)\n",
      "Requirement already satisfied: kiwisolver>=1.0.1 in /home/rayane/codenation/lib/python3.6/site-packages (from matplotlib>=2.1.2->seaborn)\n",
      "Requirement already satisfied: six>=1.5 in /home/rayane/codenation/lib/python3.6/site-packages (from python-dateutil>=2.6.1->pandas>=0.22.0->seaborn)\n",
      "Note: you may need to restart the kernel to use updated packages.\n"
     ]
    }
   ],
   "source": [
    "pip install seaborn"
   ]
  },
  {
   "cell_type": "code",
   "execution_count": 2,
   "metadata": {},
   "outputs": [
    {
     "name": "stdout",
     "output_type": "stream",
     "text": [
      "Requirement already up-to-date: scikit-learn in /home/rayane/codenation/lib/python3.6/site-packages\n",
      "Requirement already up-to-date: scipy in /home/rayane/codenation/lib/python3.6/site-packages\n",
      "Requirement already up-to-date: matplotlib in /home/rayane/codenation/lib/python3.6/site-packages\n",
      "Requirement already up-to-date: numpy>=1.13.3 in /home/rayane/codenation/lib/python3.6/site-packages (from scikit-learn)\n",
      "Requirement already up-to-date: threadpoolctl>=2.0.0 in /home/rayane/codenation/lib/python3.6/site-packages (from scikit-learn)\n",
      "Requirement already up-to-date: joblib>=0.11 in /home/rayane/codenation/lib/python3.6/site-packages (from scikit-learn)\n",
      "Requirement already up-to-date: pyparsing!=2.0.4,!=2.1.2,!=2.1.6,>=2.0.1 in /home/rayane/codenation/lib/python3.6/site-packages (from matplotlib)\n",
      "Requirement already up-to-date: python-dateutil>=2.1 in /home/rayane/codenation/lib/python3.6/site-packages (from matplotlib)\n",
      "Requirement already up-to-date: kiwisolver>=1.0.1 in /home/rayane/codenation/lib/python3.6/site-packages (from matplotlib)\n",
      "Requirement already up-to-date: cycler>=0.10 in /home/rayane/codenation/lib/python3.6/site-packages (from matplotlib)\n",
      "Requirement already up-to-date: six>=1.5 in /home/rayane/codenation/lib/python3.6/site-packages (from python-dateutil>=2.1->matplotlib)\n",
      "Note: you may need to restart the kernel to use updated packages.\n"
     ]
    }
   ],
   "source": [
    "pip install -U scikit-learn scipy matplotlib"
   ]
  },
  {
   "cell_type": "code",
   "execution_count": null,
   "metadata": {},
   "outputs": [],
   "source": [
    "import numpy as np\n",
    "import pandas as pd\n",
    "from sklearn import metrics\n",
    "\n",
    "df_train = pd.read_csv('train.csv', sep=\",\" , encoding=\"UTF8\" )\n",
    "df_test = pd.read_csv('test.csv', sep=\",\" , encoding=\"UTF8\" )"
   ]
  },
  {
   "cell_type": "code",
   "execution_count": null,
   "metadata": {},
   "outputs": [],
   "source": [
    "df_test.columns"
   ]
  },
  {
   "cell_type": "code",
   "execution_count": null,
   "metadata": {},
   "outputs": [],
   "source": [
    "df_train.corr()"
   ]
  },
  {
   "cell_type": "code",
   "execution_count": null,
   "metadata": {},
   "outputs": [],
   "source": [
    "df_resposta = pd.DataFrame()"
   ]
  },
  {
   "cell_type": "code",
   "execution_count": null,
   "metadata": {},
   "outputs": [],
   "source": [
    "print(set(df_test.columns).issubset(set(df_train.columns)))"
   ]
  },
  {
   "cell_type": "code",
   "execution_count": null,
   "metadata": {},
   "outputs": [],
   "source": [
    "import matplotlib.pyplot as plt\n",
    "import seaborn as sns\n",
    "plt.style.use('ggplot')\n",
    "%matplotlib inline\n",
    "features = [\n",
    "    'NU_NOTA_CN',\n",
    "    'NU_NOTA_CH',\n",
    "    'NU_NOTA_LC',\n",
    "    'NU_NOTA_REDACAO',\n",
    "    'NU_NOTA_COMP1',\n",
    "    'NU_NOTA_COMP2',\n",
    "    'NU_NOTA_COMP3',\n",
    "    'NU_NOTA_COMP4',\n",
    "    'NU_NOTA_COMP5']\n",
    "features_corr = [\n",
    "    'NU_NOTA_MT',\n",
    "    'NU_NOTA_CN',\n",
    "    'NU_NOTA_CH',\n",
    "    'NU_NOTA_LC',\n",
    "    'NU_NOTA_REDACAO',\n",
    "    'NU_NOTA_COMP1',\n",
    "    'NU_NOTA_COMP2',\n",
    "    'NU_NOTA_COMP3',\n",
    "    'NU_NOTA_COMP4',\n",
    "    'NU_NOTA_COMP5']"
   ]
  },
  {
   "cell_type": "code",
   "execution_count": null,
   "metadata": {},
   "outputs": [],
   "source": [
    "# verificando os valores nulos\n",
    "df_train[features].isnull().sum()"
   ]
  },
  {
   "cell_type": "code",
   "execution_count": null,
   "metadata": {},
   "outputs": [],
   "source": [
    "corr = df_train[features_corr].corr()\n",
    "ax = plt.subplots(figsize=(11, 8))\n",
    "sns.heatmap(corr,  annot=True, annot_kws={\"size\": 10})"
   ]
  },
  {
   "cell_type": "code",
   "execution_count": null,
   "metadata": {},
   "outputs": [],
   "source": [
    "# distribuição dos dados:\n",
    "x0 = df_train['NU_NOTA_CN'].fillna(0)\n",
    "x1 = df_test['NU_NOTA_CN'].fillna(0)\n",
    "sns.distplot(x0)\n",
    "sns.distplot(x1)\n",
    "plt.legend(labels=['TRAIN','TEST'], ncol=2, loc='upper left');"
   ]
  },
  {
   "cell_type": "code",
   "execution_count": null,
   "metadata": {},
   "outputs": [],
   "source": [
    "# Seleciona somente linhas com valores nesses 4 quesitos a baixo na base de train\n",
    "df_train = df_train.loc[\n",
    "      (df_train['NU_NOTA_CN'].notnull())  & (df_train['NU_NOTA_CN'] != 0) & (df_train['NU_NOTA_CH'].notnull())      & (df_train['NU_NOTA_CH'] != 0) \n",
    "    & (df_train['NU_NOTA_LC'].notnull())  & (df_train['NU_NOTA_LC'] != 0) & (df_train['NU_NOTA_REDACAO'].notnull()) & (df_train['NU_NOTA_REDACAO'] != 0)    \n",
    "]"
   ]
  },
  {
   "cell_type": "code",
   "execution_count": null,
   "metadata": {},
   "outputs": [],
   "source": [
    "# Selecionando valores diferentes de zero ou não nulos\n",
    "df_test = df_test.loc[\n",
    "      (df_test['NU_NOTA_CN'].notnull())  & (df_test['NU_NOTA_CN'] != 0) & (df_test['NU_NOTA_CH'].notnull())      & (df_test['NU_NOTA_CH'] != 0) \n",
    "    & (df_test['NU_NOTA_LC'].notnull())  & (df_test['NU_NOTA_LC'] != 0) & (df_test['NU_NOTA_REDACAO'].notnull()) & (df_test['NU_NOTA_REDACAO'] != 0)    \n",
    "]"
   ]
  },
  {
   "cell_type": "code",
   "execution_count": null,
   "metadata": {},
   "outputs": [],
   "source": [
    "# Verificando a quantidade de notas\n",
    "df_test[features].isnull().sum()"
   ]
  },
  {
   "cell_type": "code",
   "execution_count": null,
   "metadata": {},
   "outputs": [],
   "source": [
    "# Zerando os campos nulos em Redação\n",
    "df_test['NU_NOTA_COMP1'].fillna(0,inplace=True)\n",
    "df_test['NU_NOTA_COMP2'].fillna(0,inplace=True)\n",
    "df_test['NU_NOTA_COMP3'].fillna(0,inplace=True)\n",
    "df_test['NU_NOTA_COMP4'].fillna(0,inplace=True)\n",
    "df_test['NU_NOTA_COMP5'].fillna(0,inplace=True)\n",
    "df_train['NU_NOTA_COMP1'].fillna(0,inplace=True)\n",
    "df_train['NU_NOTA_COMP2'].fillna(0,inplace=True)\n",
    "df_train['NU_NOTA_COMP3'].fillna(0,inplace=True)\n",
    "df_train['NU_NOTA_COMP4'].fillna(0,inplace=True)\n",
    "df_train['NU_NOTA_COMP5'].fillna(0,inplace=True)"
   ]
  },
  {
   "cell_type": "code",
   "execution_count": null,
   "metadata": {},
   "outputs": [],
   "source": [
    "y_train = df_train['NU_NOTA_MT']\n",
    "x_train = df_train[features]\n",
    "x_test = df_test[features]\n",
    "from sklearn.preprocessing import StandardScaler\n",
    "sc = StandardScaler()  \n",
    "x_train = sc.fit_transform(x_train)  \n",
    "x_test = sc.transform(x_test)"
   ]
  },
  {
   "cell_type": "code",
   "execution_count": null,
   "metadata": {},
   "outputs": [],
   "source": [
    "from sklearn.ensemble import RandomForestRegressor\n",
    "regressor = RandomForestRegressor( \n",
    "           criterion='mae', \n",
    "           max_depth=8,\n",
    "           max_leaf_nodes=None,\n",
    "           min_impurity_split=None,\n",
    "           min_samples_leaf=1,\n",
    "           min_samples_split=2,\n",
    "           min_weight_fraction_leaf=0.0,\n",
    "           n_estimators= 500,\n",
    "           n_jobs=-1,\n",
    "           random_state=0,\n",
    "           verbose=0,\n",
    "           warm_start=False\n",
    ")"
   ]
  },
  {
   "cell_type": "code",
   "execution_count": null,
   "metadata": {},
   "outputs": [],
   "source": [
    "regressor.fit(x_train, y_train)"
   ]
  },
  {
   "cell_type": "code",
   "execution_count": null,
   "metadata": {},
   "outputs": [],
   "source": [
    "y_pred_test = regressor.predict(x_test)\n",
    "#y_pred_train = regressor.predict(x_train)"
   ]
  },
  {
   "cell_type": "code",
   "execution_count": null,
   "metadata": {},
   "outputs": [],
   "source": [
    "print('MAE:', metrics.mean_absolute_error(y_train, y_pred_train).round(8)  )\n",
    "print('MSE:', metrics.mean_squared_error(y_train, y_pred_train).round(8) )  \n",
    "print('RMSE:', np.sqrt(metrics.mean_squared_error(y_train, y_pred_train)).round(8))"
   ]
  }
 ],
 "metadata": {
  "kernelspec": {
   "display_name": "Python 3",
   "language": "python",
   "name": "python3"
  },
  "language_info": {
   "codemirror_mode": {
    "name": "ipython",
    "version": 3
   },
   "file_extension": ".py",
   "mimetype": "text/x-python",
   "name": "python",
   "nbconvert_exporter": "python",
   "pygments_lexer": "ipython3",
   "version": "3.6.9"
  }
 },
 "nbformat": 4,
 "nbformat_minor": 4
}
